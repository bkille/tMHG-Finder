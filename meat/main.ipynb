{
 "cells": [
  {
   "cell_type": "code",
   "execution_count": 12,
   "id": "9ce9aeba",
   "metadata": {},
   "outputs": [],
   "source": [
    "import guide_tree_group\n",
    "import guide_tree_compute\n",
    "import blastn_process\n",
    "import MHG_partition\n",
    "import process_mhg\n",
    "import consensus_mhg"
   ]
  },
  {
   "cell_type": "code",
   "execution_count": 4,
   "id": "f83b5cd2",
   "metadata": {},
   "outputs": [],
   "source": [
    "test_genome_dir = \"/shared/yy70/github/MHG-II/test_dataset/far_genomes/\"\n",
    "temp_genome_dir = 'temp_far'\n",
    "kmer_size = 16\n",
    "thread = 1\n",
    "mash_tree_path = \"nj_far.newick\"\n",
    "blastn_dir = \"temp_blastn_far\""
   ]
  },
  {
   "cell_type": "code",
   "execution_count": 7,
   "id": "ce2602e5",
   "metadata": {},
   "outputs": [],
   "source": [
    "# Concatenate fasta genomes to a directory; All assemblies are concat to the same file\n",
    "accDic = guide_tree_compute.concat_fasta(test_genome_dir, temp_genome_dir)\n",
    "# Mash to construct a distance matrix, and perform NJ. mash_tree_path contains the tree\n",
    "guide_tree_compute.mash_distance_matrix_njtree(temp_genome_dir, mash_tree_path, kmer_size, thread)\n",
    "# Reroot to obtain the lowest height reroot tree\n",
    "rerooted_tree = guide_tree_group.shortest_reroot(mash_tree_path)\n",
    "# Visited_node_MHG: internal node(key), MHG set(value); remaining_pair: list of remaining \n",
    "visited_node_MHG, remaining_pair = guide_tree_group.initial_taxa_internal(rerooted_tree)\n",
    "# ready_MHG: None if next internal is NOT ready, otherwise key: internal node, value: MHG set"
   ]
  },
  {
   "cell_type": "code",
   "execution_count": 13,
   "id": "bd9bc1cb",
   "metadata": {},
   "outputs": [],
   "source": [
    "visited_node_MHG, remaining_pair = guide_tree_group.initial_taxa_internal(rerooted_tree)"
   ]
  },
  {
   "cell_type": "code",
   "execution_count": 10,
   "id": "2789a74b",
   "metadata": {},
   "outputs": [
    {
     "data": {
      "text/plain": [
       "<Tree object at 0x7f3c144d3ac0>"
      ]
     },
     "execution_count": 10,
     "metadata": {},
     "output_type": "execute_result"
    }
   ],
   "source": [
    "rerooted_tree"
   ]
  },
  {
   "cell_type": "code",
   "execution_count": 9,
   "id": "7b26eb29",
   "metadata": {},
   "outputs": [
    {
     "data": {
      "text/plain": [
       "['G000412335,G000262305',\n",
       " 'G001277235,G000276705',\n",
       " 'G001598855,G000280495',\n",
       " 'G000412335|G000262305,G001277235|G000276705']"
      ]
     },
     "execution_count": 9,
     "metadata": {},
     "output_type": "execute_result"
    }
   ],
   "source": [
    "remaining_pair"
   ]
  },
  {
   "cell_type": "code",
   "execution_count": null,
   "id": "0cbc9b24",
   "metadata": {},
   "outputs": [],
   "source": [
    "\n",
    "while remaining_pair:\n",
    "    next_internal_ready_boolean, internal_node_taxa, ready_MHG_dict, visited_node_MHG, remaining_pair = guide_tree_group.give_me_the_next_visit(visited_node_MHG, remaining_pair)\n",
    "    if next_internal_ready_boolean:\n",
    "        #这里现在不行 assume的是两个children都是leaf taxa；如果一个children是internal node，blastn_next要重新写\n",
    "        blastn_out_path = blastn_process.blastn_next(ready_MHG_dict, blastn_dir, temp_genome_dir)\n",
    "        df, check_list = MHG_partition.parseBlastXML(blastn_out_path)\n",
    "        df = MHG_partition.trim_fully_contain(df, check_list)\n",
    "        if '|' not in internal_node_taxa:\n",
    "            # Case 1: two children nodes are both leaf nodes\n",
    "            mhg_list = MHG_partition.mhg(df, 2)\n",
    "            pan_mhg_list = process_mhg.pangenome(mhg_list, accDic)\n",
    "        else:\n",
    "            # Case 2: two children nodes have an internal node\n",
    "            print(\"two children nodes have an internal node\")\n",
    "            mhg_list = MHG_partition.mhg(df, 1)\n",
    "            pan_mhg_list = consensus_mhg.consensus_to_blocks(mhg_list, ready_MHG_dict)\n",
    "        refName_refBlcok_dict, ref_mhg_dict = process_mhg.mafft_consensus_mhg(pan_mhg_list, accDic)\n",
    "        visited_node_MHG[internal_node_taxa] = [refName_refBlcok_dict, ref_mhg_dict]\n",
    "        # Convert consensus ref alignments to sequences, write to a new fasta and be ready for next blastn\n",
    "        process_mhg.ref_alignment_to_fasta(internal_node_taxa, temp_genome_dir, refName_refBlcok_dict)\n",
    "    else:\n",
    "        print(\"Next internal node is not ready\")"
   ]
  }
 ],
 "metadata": {
  "kernelspec": {
   "display_name": "Python 3 (ipykernel)",
   "language": "python",
   "name": "python3"
  },
  "language_info": {
   "codemirror_mode": {
    "name": "ipython",
    "version": 3
   },
   "file_extension": ".py",
   "mimetype": "text/x-python",
   "name": "python",
   "nbconvert_exporter": "python",
   "pygments_lexer": "ipython3",
   "version": "3.8.2"
  }
 },
 "nbformat": 4,
 "nbformat_minor": 5
}
